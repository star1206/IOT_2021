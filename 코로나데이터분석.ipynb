{
  "nbformat": 4,
  "nbformat_minor": 0,
  "metadata": {
    "colab": {
      "provenance": [],
      "include_colab_link": true
    },
    "kernelspec": {
      "name": "python3",
      "display_name": "Python 3"
    }
  },
  "cells": [
    {
      "cell_type": "markdown",
      "metadata": {
        "id": "view-in-github",
        "colab_type": "text"
      },
      "source": [
        "<a href=\"https://colab.research.google.com/github/star1206/IOT_2021/blob/master/%EC%BD%94%EB%A1%9C%EB%82%98%EB%8D%B0%EC%9D%B4%ED%84%B0%EB%B6%84%EC%84%9D.ipynb\" target=\"_parent\"><img src=\"https://colab.research.google.com/assets/colab-badge.svg\" alt=\"Open In Colab\"/></a>"
      ]
    },
    {
      "cell_type": "markdown",
      "metadata": {
        "id": "vqA_Ok4GUPVV"
      },
      "source": [
        "#1.한글폰트 설치"
      ]
    },
    {
      "cell_type": "code",
      "metadata": {
        "id": "Bpj6hbhOj9KB",
        "colab": {
          "base_uri": "https://localhost:8080/"
        },
        "outputId": "fe41a2e0-e580-4c8e-f78d-a8a22455c8cd"
      },
      "source": [
        "# 한글 폰트 설치하기\n",
        "!apt -qq -y install fonts-nanum"
      ],
      "execution_count": null,
      "outputs": [
        {
          "output_type": "stream",
          "text": [
            "The following NEW packages will be installed:\n",
            "  fonts-nanum\n",
            "0 upgraded, 1 newly installed, 0 to remove and 30 not upgraded.\n",
            "Need to get 9,604 kB of archives.\n",
            "After this operation, 29.5 MB of additional disk space will be used.\n",
            "Selecting previously unselected package fonts-nanum.\n",
            "(Reading database ... 160980 files and directories currently installed.)\n",
            "Preparing to unpack .../fonts-nanum_20170925-1_all.deb ...\n",
            "Unpacking fonts-nanum (20170925-1) ...\n",
            "Setting up fonts-nanum (20170925-1) ...\n",
            "Processing triggers for fontconfig (2.12.6-0ubuntu2) ...\n"
          ],
          "name": "stdout"
        }
      ]
    },
    {
      "cell_type": "code",
      "metadata": {
        "id": "ZRBtnNuIkIBk"
      },
      "source": [
        "# 폰트 세팅\n",
        "import matplotlib.pyplot as plt\n",
        "import matplotlib.font_manager as fm\n",
        "\n",
        "fontpath = '/usr/share/fonts/truetype/nanum/NanumGothic.ttf'\n",
        "font = fm.FontProperties(fname=fontpath, size=10)\n",
        "fm._rebuild()"
      ],
      "execution_count": null,
      "outputs": []
    },
    {
      "cell_type": "code",
      "metadata": {
        "id": "6yDFoHgkkLhu",
        "colab": {
          "base_uri": "https://localhost:8080/",
          "height": 279
        },
        "outputId": "d242bae8-f9cd-45b3-cf94-f988f984f966"
      },
      "source": [
        "# 위 코드 실행 후 [메뉴] - [런타임] - [런타임 다시 시작] - [예] 한 후 아래코드 실행\n",
        "#한글제목! 제대로 보이는지 확인\n",
        "import matplotlib.pyplot as plt\n",
        "plt.rc('font', family='NanumGothic')\n",
        "plt.title('한글 제목!!')\n",
        "plt.plot([1,2,3,5,4])\n",
        "plt.show()"
      ],
      "execution_count": null,
      "outputs": [
        {
          "output_type": "display_data",
          "data": {
            "image/png": "[encoded data removed]",
            "text/plain": [
              "<Figure size 432x288 with 1 Axes>"
            ]
          },
          "metadata": {
            "tags": [],
            "needs_background": "light"
          }
        }
      ]
    },
    {
      "cell_type": "markdown",
      "metadata": {
        "id": "yKVufmZNnixr"
      },
      "source": [
        "#코로나 데이터 가져오기\n",
        "- 경기도감염병관리지원단 사이트 : http://www.gidcc.or.kr/   감염병현황 - 코로나 19 현황 화면 에서 하단에 다운로드 클릭 - 데이터파일 선택 - 전체데이터 - 모든열, 모든 행 선택 후 csv파일 다운로드 후 업로드\n",
        "\n",
        "\n",
        "  "
      ]
    },
    {
      "cell_type": "code",
      "metadata": {
        "id": "oz0RUugLAzv4",
        "colab": {
          "base_uri": "https://localhost:8080/"
        },
        "outputId": "a7d07c35-a1dc-4245-eb13-7d4f1ade0690"
      },
      "source": [
        "#드라이브 마운트\n",
        "from google.colab import drive\n",
        "drive.mount('/content/drive')"
      ],
      "execution_count": null,
      "outputs": [
        {
          "output_type": "stream",
          "text": [
            "Mounted at /content/drive\n"
          ],
          "name": "stdout"
        }
      ]
    },
    {
      "cell_type": "code",
      "metadata": {
        "id": "-fJEQHJniiXJ"
      },
      "source": [
        "#데이터 가져오기\n",
        "import pandas as pd\n",
        "df = pd.read_csv('./drive/My Drive/data/corona19.csv')   #구글드라이브 마운트 한 후 데이터를 My Drive 폴더에 저장\n",
        "df"
      ],
      "execution_count": null,
      "outputs": []
    },
    {
      "cell_type": "code",
      "metadata": {
        "id": "ylcDuB-jqMz7"
      },
      "source": [
        "#데이터 확인\n",
        "df.info()"
      ],
      "execution_count": null,
      "outputs": []
    },
    {
      "cell_type": "code",
      "metadata": {
        "id": "EXBDAtr73olm",
        "colab": {
          "base_uri": "https://localhost:8080/"
        },
        "outputId": "46b0c815-69d5-40f9-e048-1f58f77c78ab"
      },
      "source": [
        "#데이터 컬럼확인\n",
        "df.columns"
      ],
      "execution_count": null,
      "outputs": [
        {
          "output_type": "execute_result",
          "data": {
            "text/plain": [
              "Index(['기준일(발병일, 확진일 선택)', '지역 + 시 ', '필터(무증상,조사중 제외)', 'GRP', '감염경로',\n",
              "       '감염경로 (그룹)', '경기번호', '구분', '구분2', '나이(만)', '무증상/조사중', '무증상/조사중 기준일',\n",
              "       '성별', '연령대', '연령대별 비율', '연번', '재검출', '증상발현일', '지역', '지역 (group)',\n",
              "       '필터(무증상,조사중 제외)(복사본)', '확진일-증상발현일', '확진일-증상발현일_무증상조사중포함', '확진일자', '확진자',\n",
              "       '레코드 수', '무증상자수', '최종_무증상자수'],\n",
              "      dtype='object')"
            ]
          },
          "metadata": {
            "tags": []
          },
          "execution_count": 8
        }
      ]
    },
    {
      "cell_type": "code",
      "metadata": {
        "id": "4RH0sSvmP8WM"
      },
      "source": [
        "# 5개의 데이터만 확인\n",
        "df.head()"
      ],
      "execution_count": null,
      "outputs": []
    },
    {
      "cell_type": "code",
      "metadata": {
        "id": "8AiQ_tpn_zig",
        "colab": {
          "base_uri": "https://localhost:8080/",
          "height": 297
        },
        "outputId": "6f6a89c4-8d77-4aa8-a984-ccb2a06f8d0b"
      },
      "source": [
        "#데이터 요약\n",
        "df.describe()"
      ],
      "execution_count": null,
      "outputs": [
        {
          "output_type": "execute_result",
          "data": {
            "text/html": [
              "<div>\n",
              "<style scoped>\n",
              "    .dataframe tbody tr th:only-of-type {\n",
              "        vertical-align: middle;\n",
              "    }\n",
              "\n",
              "    .dataframe tbody tr th {\n",
              "        vertical-align: top;\n",
              "    }\n",
              "\n",
              "    .dataframe thead th {\n",
              "        text-align: right;\n",
              "    }\n",
              "</style>\n",
              "<table border=\"1\" class=\"dataframe\">\n",
              "  <thead>\n",
              "    <tr style=\"text-align: right;\">\n",
              "      <th></th>\n",
              "      <th>연번</th>\n",
              "      <th>레코드 수</th>\n",
              "      <th>무증상자수</th>\n",
              "      <th>최종_무증상자수</th>\n",
              "    </tr>\n",
              "  </thead>\n",
              "  <tbody>\n",
              "    <tr>\n",
              "      <th>count</th>\n",
              "      <td>28872.000000</td>\n",
              "      <td>28872.0</td>\n",
              "      <td>28872.000000</td>\n",
              "      <td>28871.000000</td>\n",
              "    </tr>\n",
              "    <tr>\n",
              "      <th>mean</th>\n",
              "      <td>14436.500000</td>\n",
              "      <td>1.0</td>\n",
              "      <td>0.356401</td>\n",
              "      <td>0.356378</td>\n",
              "    </tr>\n",
              "    <tr>\n",
              "      <th>std</th>\n",
              "      <td>8334.772822</td>\n",
              "      <td>0.0</td>\n",
              "      <td>0.478944</td>\n",
              "      <td>0.478937</td>\n",
              "    </tr>\n",
              "    <tr>\n",
              "      <th>min</th>\n",
              "      <td>1.000000</td>\n",
              "      <td>1.0</td>\n",
              "      <td>0.000000</td>\n",
              "      <td>0.000000</td>\n",
              "    </tr>\n",
              "    <tr>\n",
              "      <th>25%</th>\n",
              "      <td>7218.750000</td>\n",
              "      <td>1.0</td>\n",
              "      <td>0.000000</td>\n",
              "      <td>0.000000</td>\n",
              "    </tr>\n",
              "    <tr>\n",
              "      <th>50%</th>\n",
              "      <td>14436.500000</td>\n",
              "      <td>1.0</td>\n",
              "      <td>0.000000</td>\n",
              "      <td>0.000000</td>\n",
              "    </tr>\n",
              "    <tr>\n",
              "      <th>75%</th>\n",
              "      <td>21654.250000</td>\n",
              "      <td>1.0</td>\n",
              "      <td>1.000000</td>\n",
              "      <td>1.000000</td>\n",
              "    </tr>\n",
              "    <tr>\n",
              "      <th>max</th>\n",
              "      <td>28872.000000</td>\n",
              "      <td>1.0</td>\n",
              "      <td>1.000000</td>\n",
              "      <td>1.000000</td>\n",
              "    </tr>\n",
              "  </tbody>\n",
              "</table>\n",
              "</div>"
            ],
            "text/plain": [
              "                 연번    레코드 수         무증상자수      최종_무증상자수\n",
              "count  28872.000000  28872.0  28872.000000  28871.000000\n",
              "mean   14436.500000      1.0      0.356401      0.356378\n",
              "std     8334.772822      0.0      0.478944      0.478937\n",
              "min        1.000000      1.0      0.000000      0.000000\n",
              "25%     7218.750000      1.0      0.000000      0.000000\n",
              "50%    14436.500000      1.0      0.000000      0.000000\n",
              "75%    21654.250000      1.0      1.000000      1.000000\n",
              "max    28872.000000      1.0      1.000000      1.000000"
            ]
          },
          "metadata": {
            "tags": []
          },
          "execution_count": 7
        }
      ]
    },
    {
      "cell_type": "code",
      "metadata": {
        "id": "2loindGKKFUb",
        "colab": {
          "base_uri": "https://localhost:8080/",
          "height": 34
        },
        "outputId": "a95f01bb-7b18-445c-9d2c-e3143f38cea4"
      },
      "source": [
        "#해당 열의 가장 큰수 출력(가장많은 나이는)\n",
        "df['나이(만)'].max()"
      ],
      "execution_count": null,
      "outputs": [
        {
          "output_type": "execute_result",
          "data": {
            "application/vnd.google.colaboratory.intrinsic+json": {
              "type": "string"
            },
            "text/plain": [
              "'99'"
            ]
          },
          "metadata": {
            "tags": []
          },
          "execution_count": 11
        }
      ]
    },
    {
      "cell_type": "code",
      "metadata": {
        "id": "BVoWUwfxPHTi",
        "colab": {
          "base_uri": "https://localhost:8080/"
        },
        "outputId": "06d663cd-738d-458b-c9cf-f1e2b5546a61"
      },
      "source": [
        "#지역별 확진자수 확인\n",
        "df['지역'].value_counts()"
      ],
      "execution_count": null,
      "outputs": [
        {
          "output_type": "execute_result",
          "data": {
            "text/plain": [
              "부천       2020\n",
              "성남분당     1132\n",
              "의정부      1081\n",
              "화성       1061\n",
              "평택       1049\n",
              "김포       1017\n",
              "고양덕양     1005\n",
              "용인기흥      943\n",
              "남양주       927\n",
              "광주        907\n",
              "파주        899\n",
              "고양일산동     852\n",
              "안산단원      837\n",
              "용인수지      792\n",
              "시흥        789\n",
              "광명        731\n",
              "안양동안      726\n",
              "성남수정      711\n",
              "군포        692\n",
              "안산상록      609\n",
              "남양주풍양     590\n",
              "이천        576\n",
              "수원권선      575\n",
              "고양일산서     554\n",
              "성남중원      547\n",
              "안양만안      543\n",
              "구리        541\n",
              "하남        515\n",
              "수원영통      485\n",
              "양주        474\n",
              "평택송탄      455\n",
              "포천        433\n",
              "동두천       414\n",
              "수원장안      404\n",
              "용인처인      398\n",
              "오산        376\n",
              "수원팔달      357\n",
              "안성        340\n",
              "양평        311\n",
              "여주        260\n",
              "의왕        240\n",
              "평택안중      240\n",
              "연천        185\n",
              "가평        150\n",
              "과천        126\n",
              "고양          1\n",
              "Name: 지역, dtype: int64"
            ]
          },
          "metadata": {
            "tags": []
          },
          "execution_count": 12
        }
      ]
    },
    {
      "cell_type": "code",
      "metadata": {
        "id": "n8jhywxKgGH6"
      },
      "source": [
        "df['확진일']=pd.to_datetime(df['확진일자'])\n",
        "co=df['확진일'].value_counts().sort_index()\n",
        "co.to_excel(\"corona21.xlsx\")"
      ],
      "execution_count": null,
      "outputs": []
    },
    {
      "cell_type": "code",
      "metadata": {
        "id": "Uic1NcF94rz9",
        "colab": {
          "base_uri": "https://localhost:8080/"
        },
        "outputId": "1c37c3c0-f877-403f-bef6-e280602c408b"
      },
      "source": [
        "#확진일자별 통계 확인\n",
        "df['확진일'].value_counts().sort_index()"
      ],
      "execution_count": null,
      "outputs": [
        {
          "output_type": "execute_result",
          "data": {
            "text/plain": [
              "2020-01-26      1\n",
              "2020-01-27      1\n",
              "2020-02-01      1\n",
              "2020-02-02      1\n",
              "2020-02-05      2\n",
              "             ... \n",
              "2021-03-28    122\n",
              "2021-03-29    120\n",
              "2021-03-30    107\n",
              "2021-03-31    139\n",
              "2021-04-01    144\n",
              "Name: 확진일, Length: 411, dtype: int64"
            ]
          },
          "metadata": {
            "tags": []
          },
          "execution_count": 16
        }
      ]
    },
    {
      "cell_type": "code",
      "metadata": {
        "id": "LDFZrKm6JpHy"
      },
      "source": [
        "#확진자수가 많은 연령 Top10\n"
      ],
      "execution_count": null,
      "outputs": []
    },
    {
      "cell_type": "code",
      "metadata": {
        "id": "QZq8q1MLKEy_",
        "colab": {
          "base_uri": "https://localhost:8080/",
          "height": 159
        },
        "outputId": "b46ff441-4153-4450-b83a-ce350d95b5ae"
      },
      "source": [
        "#확진일자별 통계 그래프 그리기\n",
        "import matplotlib.pyplot as plt\n",
        "plt.figure(figsize=(30,4))\n",
        "df[df['확진일'] >= '2021-01-01']['확진일'].value_counts().plot.bar()"
      ],
      "execution_count": null,
      "outputs": [
        {
          "output_type": "execute_result",
          "data": {
            "text/plain": [
              "<matplotlib.axes._subplots.AxesSubplot at 0x7f5d123b8490>"
            ]
          },
          "metadata": {
            "tags": []
          },
          "execution_count": 24
        },
        {
          "output_type": "display_data",
          "data": {
            "image/png": "[encoded data removed]",
            "text/plain": [
              "<Figure size 2160x288 with 1 Axes>"
            ]
          },
          "metadata": {
            "tags": [],
            "needs_background": "light"
          }
        }
      ]
    },
    {
      "cell_type": "code",
      "metadata": {
        "id": "00_pwtP-Upx1"
      },
      "source": [
        "#확진일자를 날짜형식으로 변환\n",
        "df['확진일']=pd.to_datetime(df['확진일자'])"
      ],
      "execution_count": null,
      "outputs": []
    },
    {
      "cell_type": "code",
      "metadata": {
        "id": "0QtRDafVZlRx"
      },
      "source": [
        "#조건에 해당하는 데이터만 출력(3월15일부터 3월20일의 데이터만 출력)\n",
        "df[(df['확진일'] >= '2021-03-15') &"
      ],
      "execution_count": null,
      "outputs": []
    },
    {
      "cell_type": "code",
      "metadata": {
        "id": "hEFwU5x6S-_Q"
      },
      "source": [
        "#특정일자만 그래프 그리기\n",
        "import matplotlib.pyplot as plt\n",
        "plt.figure(figsize=(30,4))\n"
      ],
      "execution_count": null,
      "outputs": []
    },
    {
      "cell_type": "code",
      "metadata": {
        "id": "UKnyx7fiVjVy",
        "colab": {
          "base_uri": "https://localhost:8080/"
        },
        "outputId": "ed6168dc-cf13-4762-ccc7-5756a0fdafed"
      },
      "source": [
        "#지역별 확진자수 확인\n",
        "df['지역'].value_counts()"
      ],
      "execution_count": null,
      "outputs": [
        {
          "output_type": "execute_result",
          "data": {
            "text/plain": [
              "부천       2020\n",
              "성남분당     1132\n",
              "의정부      1081\n",
              "화성       1061\n",
              "평택       1049\n",
              "김포       1017\n",
              "고양덕양     1005\n",
              "용인기흥      943\n",
              "남양주       927\n",
              "광주        907\n",
              "파주        899\n",
              "고양일산동     852\n",
              "안산단원      837\n",
              "용인수지      792\n",
              "시흥        789\n",
              "광명        731\n",
              "안양동안      726\n",
              "성남수정      711\n",
              "군포        692\n",
              "안산상록      609\n",
              "남양주풍양     590\n",
              "이천        576\n",
              "수원권선      575\n",
              "고양일산서     554\n",
              "성남중원      547\n",
              "안양만안      543\n",
              "구리        541\n",
              "하남        515\n",
              "수원영통      485\n",
              "양주        474\n",
              "평택송탄      455\n",
              "포천        433\n",
              "동두천       414\n",
              "수원장안      404\n",
              "용인처인      398\n",
              "오산        376\n",
              "수원팔달      357\n",
              "안성        340\n",
              "양평        311\n",
              "여주        260\n",
              "의왕        240\n",
              "평택안중      240\n",
              "연천        185\n",
              "가평        150\n",
              "과천        126\n",
              "고양          1\n",
              "Name: 지역, dtype: int64"
            ]
          },
          "metadata": {
            "tags": []
          },
          "execution_count": 25
        }
      ]
    },
    {
      "cell_type": "code",
      "metadata": {
        "id": "Jl7Bu1318ZBQ"
      },
      "source": [
        "#지역별 확진자수 확인(Top5)\n",
        "df['지역'].value_counts()[:5]"
      ],
      "execution_count": null,
      "outputs": []
    },
    {
      "cell_type": "code",
      "metadata": {
        "id": "VHULGvfGmKAx",
        "colab": {
          "base_uri": "https://localhost:8080/",
          "height": 248
        },
        "outputId": "0b9da347-dc73-4fec-fe87-857bfa9e3235"
      },
      "source": [
        "# 확진자가 가장 많이 발생한 지역 Top 5 시각화\n",
        "df['지역'].value_counts()[:5].plot.pie(autopct=\"%1.1f%%\")\n",
        "plt.savefig('corona.png',dpl=200)"
      ],
      "execution_count": null,
      "outputs": [
        {
          "output_type": "display_data",
          "data": {
            "image/png": "[encoded data removed]",
            "text/plain": [
              "<Figure size 432x288 with 1 Axes>"
            ]
          },
          "metadata": {
            "tags": []
          }
        }
      ]
    },
    {
      "cell_type": "code",
      "metadata": {
        "id": "JNOsS4EcmSBM",
        "colab": {
          "base_uri": "https://localhost:8080/"
        },
        "outputId": "80915953-72e5-4c1e-e717-a8c02ec09b11"
      },
      "source": [
        "# 해당지역에서 확진자가 가장 많이 발생한 날짜 Top 10 표시하기\n",
        "df[df['지역']=='성남분당']['확진일'].value_counts()[:5]"
      ],
      "execution_count": null,
      "outputs": [
        {
          "output_type": "execute_result",
          "data": {
            "text/plain": [
              "2021-02-17    24\n",
              "2021-02-20    22\n",
              "2021-02-18    19\n",
              "2020-12-08    18\n",
              "2020-12-10    16\n",
              "Name: 확진일, dtype: int64"
            ]
          },
          "metadata": {
            "tags": []
          },
          "execution_count": 30
        }
      ]
    },
    {
      "cell_type": "code",
      "metadata": {
        "id": "fv0zHuXg9SCJ",
        "colab": {
          "base_uri": "https://localhost:8080/",
          "height": 499
        },
        "outputId": "95c998fc-f62c-4d04-d4ac-f67cb201a08e"
      },
      "source": [
        "# 해당지역에서 확진자가 가장 많이 발생한 날짜 Top 10 표시하기\n",
        "print(df['지역'].unique())\n",
        "loc=input('위 지역 중 궁금한 지역을 입력하세요:')\n",
        "plt.title(loc+'지역의 확진일 Top 10')\n",
        "df[df['지역']==loc]['확진일'].value_counts()[:10].plot.bar()"
      ],
      "execution_count": null,
      "outputs": [
        {
          "output_type": "stream",
          "text": [
            "['고양일산서' '평택' '부천' '수원장안' '구리' '시흥' '김포' '이천' '포천' '안양동안' '수원팔달' '용인수지'\n",
            " '수원영통' '파주' '남양주' '성남분당' '안양만안' '과천' '수원권선' '평택안중' '광명' '화성' '용인기흥'\n",
            " '고양덕양' '오산' '용인처인' '군포' '의왕' '안산단원' '광주' '안산상록' '안성' '의정부' '성남수정' '성남중원'\n",
            " '하남' '평택송탄' '고양일산동' '동두천' '양주' '가평' '남양주풍양' '양평' '여주' '연천' '고양' nan]\n",
            "위 지역 중 궁금한 지역을 입력하세요:양평\n"
          ],
          "name": "stdout"
        },
        {
          "output_type": "execute_result",
          "data": {
            "text/plain": [
              "<matplotlib.axes._subplots.AxesSubplot at 0x7f5d115412d0>"
            ]
          },
          "metadata": {
            "tags": []
          },
          "execution_count": 31
        },
        {
          "output_type": "display_data",
          "data": {
            "image/png": "[encoded data removed]",
            "text/plain": [
              "<Figure size 432x288 with 1 Axes>"
            ]
          },
          "metadata": {
            "tags": [],
            "needs_background": "light"
          }
        }
      ]
    },
    {
      "cell_type": "markdown",
      "metadata": {
        "id": "-sNHHS2nXprJ"
      },
      "source": [
        "<과제>"
      ]
    },
    {
      "cell_type": "code",
      "metadata": {
        "id": "s-Qr-Iya8M69",
        "colab": {
          "base_uri": "https://localhost:8080/",
          "height": 266
        },
        "outputId": "af36f39a-7690-456f-9ba8-71c1a1688d7c"
      },
      "source": [
        "#확진자 성별 현황 파이그래프로 표현하기(비율 표시로)"
      ],
      "execution_count": null,
      "outputs": [
        {
          "output_type": "execute_result",
          "data": {
            "text/plain": [
              "<matplotlib.axes._subplots.AxesSubplot at 0x7f5cf66164d0>"
            ]
          },
          "metadata": {
            "tags": []
          },
          "execution_count": 34
        },
        {
          "output_type": "display_data",
          "data": {
            "image/png": "[encoded data removed]",
            "text/plain": [
              "<Figure size 432x288 with 1 Axes>"
            ]
          },
          "metadata": {
            "tags": []
          }
        }
      ]
    },
    {
      "cell_type": "code",
      "metadata": {
        "id": "1IS_j8Bq8TD4"
      },
      "source": [
        "#본인이 해보고 싶은 분석자료 그래프로 표시하기"
      ],
      "execution_count": null,
      "outputs": []
    },
    {
      "cell_type": "code",
      "metadata": {
        "id": "Iw7SzQhDB-KY"
      },
      "source": [
        "#데이터 정리하기(필요없는 데이터 삭제)\n",
        "num=df[df['연령대']=='조사중'].index\n",
        "blank=df[df['나이(만)']==' '].index\n",
        "num=num.append(blank)\n",
        "df1=df.drop(num)\n",
        "df1.describe()"
      ],
      "execution_count": null,
      "outputs": []
    },
    {
      "cell_type": "code",
      "metadata": {
        "colab": {
          "base_uri": "https://localhost:8080/",
          "height": 291
        },
        "id": "kK6dppIAlq3h",
        "outputId": "0314cd68-6496-4efc-beb9-fe7fdab8f702"
      },
      "source": [
        "df1['연령대2'] = pd.to_numeric(df1['연령대'])\n",
        "df1['연령대2'].value_counts().sort_index().plot.bar()"
      ],
      "execution_count": null,
      "outputs": [
        {
          "output_type": "execute_result",
          "data": {
            "text/plain": [
              "<matplotlib.axes._subplots.AxesSubplot at 0x7f5d11456510>"
            ]
          },
          "metadata": {
            "tags": []
          },
          "execution_count": 36
        },
        {
          "output_type": "display_data",
          "data": {
            "image/png": "[encoded data removed]",
            "text/plain": [
              "<Figure size 432x288 with 1 Axes>"
            ]
          },
          "metadata": {
            "tags": [],
            "needs_background": "light"
          }
        }
      ]
    }
  ]
}