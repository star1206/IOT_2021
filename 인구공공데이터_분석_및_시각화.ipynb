{
  "nbformat": 4,
  "nbformat_minor": 0,
  "metadata": {
    "colab": {
      "provenance": [],
      "include_colab_link": true
    },
    "kernelspec": {
      "name": "python3",
      "display_name": "Python 3"
    },
    "language_info": {
      "name": "python"
    }
  },
  "cells": [
    {
      "cell_type": "markdown",
      "metadata": {
        "id": "view-in-github",
        "colab_type": "text"
      },
      "source": [
        "<a href=\"https://colab.research.google.com/github/star1206/Seohyun-Highschool-CIT/blob/master/%EC%9D%B8%EA%B5%AC%EA%B3%B5%EA%B3%B5%EB%8D%B0%EC%9D%B4%ED%84%B0_%EB%B6%84%EC%84%9D_%EB%B0%8F_%EC%8B%9C%EA%B0%81%ED%99%94.ipynb\" target=\"_parent\"><img src=\"https://colab.research.google.com/assets/colab-badge.svg\" alt=\"Open In Colab\"/></a>"
      ]
    },
    {
      "cell_type": "markdown",
      "metadata": {
        "id": "Vpp-in0IY3NI"
      },
      "source": [
        "### 한글폰트 설치"
      ]
    },
    {
      "cell_type": "code",
      "metadata": {
        "id": "zSu4bb67DcHO"
      },
      "source": [
        "# 1. 나눔폰트 설치\n",
        "!sudo apt-get install -y fonts-nanum\n",
        "!sudo fc-cache -fv\n",
        "!rm ~/.cache/matplotlib -rf"
      ],
      "execution_count": null,
      "outputs": []
    },
    {
      "cell_type": "code",
      "metadata": {
        "id": "4LJdsO2DDv3W"
      },
      "source": [
        "# 2. 코랩 런타임을 재시작[런타임-런타임 다시 시작]"
      ],
      "execution_count": null,
      "outputs": []
    },
    {
      "cell_type": "code",
      "metadata": {
        "id": "eutUgzzcECke"
      },
      "source": [
        "# 3. matplotlib의 폰트를 Nanum폰트로 지정\n",
        "import matplotlib.pyplot as plt\n",
        "plt.rc('font',family='NanumBarunGothic')\n",
        "\n",
        "# 축값이 음수일때 음수를 표현하기 위한 설정\n",
        "plt.rcParams['axes.unicode_minus']=False\n"
      ],
      "execution_count": null,
      "outputs": []
    },
    {
      "cell_type": "markdown",
      "metadata": {
        "id": "Q3358fjXd9q_"
      },
      "source": [
        "# 행안부 공공데이터로 내가 살고 있는 지역 인구구조 알아보기"
      ]
    },
    {
      "cell_type": "markdown",
      "metadata": {
        "id": "XYlfF-gzMSit"
      },
      "source": [
        "\n",
        "- 행정안전부에서 제공하는 공공데이터 : https://www.mois.go.kr/frt/a01/frtMain.do       \n",
        "- 정책자료->통계->주민등록 인구통계->연령별 인구현황->통계표->경기도/성남시/거주자/월간/2022년4월/남여구분없음/단위1세/0세~100이상으로 검색하여 csv다운로드    \n",
        "- 메모장으로 열어 인코딩방식 utf-8로 수정    \n",
        "- 구글드라이브 마운트   \n",
        "- 내 구글드라이브(myDrive-data)에 업로드 (파일명 : 202204_202204_연령별인구현황_월간)\n",
        "\n",
        "\n"
      ]
    },
    {
      "cell_type": "code",
      "source": [
        "from google.colab import drive\n",
        "drive.mount('/content/drive')"
      ],
      "metadata": {
        "id": "3FUL42gKrqD6",
        "outputId": "28ce5d5c-2c20-4d81-bedb-31065721e64e",
        "colab": {
          "base_uri": "https://localhost:8080/"
        }
      },
      "execution_count": null,
      "outputs": [
        {
          "output_type": "stream",
          "name": "stdout",
          "text": [
            "Drive already mounted at /content/drive; to attempt to forcibly remount, call drive.mount(\"/content/drive\", force_remount=True).\n"
          ]
        }
      ]
    },
    {
      "cell_type": "markdown",
      "source": [
        "## 서현1동의 인구구조 알아보기"
      ],
      "metadata": {
        "id": "PFbio-A_sG64"
      }
    },
    {
      "cell_type": "markdown",
      "source": [
        "### 1) csv 파일 읽기"
      ],
      "metadata": {
        "id": "DNOt5iwo2Wg1"
      }
    },
    {
      "cell_type": "code",
      "source": [
        "import csv\n",
        "f = open('/content/drive/MyDrive/data/202205_202205_연령별인구현황_월간.csv','r')\n",
        "lines = csv.reader(f)\n",
        "header = next(lines)\n",
        "print(header)\n",
        "for line in lines:\n",
        "  if '서현1동' in line[0]:\n",
        "    print(line)\n",
        "f.close()"
      ],
      "metadata": {
        "id": "yncO7Lc124Pp",
        "colab": {
          "base_uri": "https://localhost:8080/"
        },
        "outputId": "668bfc1b-a4d0-4bde-c7eb-26a22a937a5d"
      },
      "execution_count": null,
      "outputs": [
        {
          "output_type": "stream",
          "name": "stdout",
          "text": [
            "['\\ufeff\"행정구역\"', '2022년05월_거주자_총인구수', '2022년05월_거주자_연령구간인구수', '2022년05월_거주자_0세', '2022년05월_거주자_1세', '2022년05월_거주자_2세', '2022년05월_거주자_3세', '2022년05월_거주자_4세', '2022년05월_거주자_5세', '2022년05월_거주자_6세', '2022년05월_거주자_7세', '2022년05월_거주자_8세', '2022년05월_거주자_9세', '2022년05월_거주자_10세', '2022년05월_거주자_11세', '2022년05월_거주자_12세', '2022년05월_거주자_13세', '2022년05월_거주자_14세', '2022년05월_거주자_15세', '2022년05월_거주자_16세', '2022년05월_거주자_17세', '2022년05월_거주자_18세', '2022년05월_거주자_19세', '2022년05월_거주자_20세', '2022년05월_거주자_21세', '2022년05월_거주자_22세', '2022년05월_거주자_23세', '2022년05월_거주자_24세', '2022년05월_거주자_25세', '2022년05월_거주자_26세', '2022년05월_거주자_27세', '2022년05월_거주자_28세', '2022년05월_거주자_29세', '2022년05월_거주자_30세', '2022년05월_거주자_31세', '2022년05월_거주자_32세', '2022년05월_거주자_33세', '2022년05월_거주자_34세', '2022년05월_거주자_35세', '2022년05월_거주자_36세', '2022년05월_거주자_37세', '2022년05월_거주자_38세', '2022년05월_거주자_39세', '2022년05월_거주자_40세', '2022년05월_거주자_41세', '2022년05월_거주자_42세', '2022년05월_거주자_43세', '2022년05월_거주자_44세', '2022년05월_거주자_45세', '2022년05월_거주자_46세', '2022년05월_거주자_47세', '2022년05월_거주자_48세', '2022년05월_거주자_49세', '2022년05월_거주자_50세', '2022년05월_거주자_51세', '2022년05월_거주자_52세', '2022년05월_거주자_53세', '2022년05월_거주자_54세', '2022년05월_거주자_55세', '2022년05월_거주자_56세', '2022년05월_거주자_57세', '2022년05월_거주자_58세', '2022년05월_거주자_59세', '2022년05월_거주자_60세', '2022년05월_거주자_61세', '2022년05월_거주자_62세', '2022년05월_거주자_63세', '2022년05월_거주자_64세', '2022년05월_거주자_65세', '2022년05월_거주자_66세', '2022년05월_거주자_67세', '2022년05월_거주자_68세', '2022년05월_거주자_69세', '2022년05월_거주자_70세', '2022년05월_거주자_71세', '2022년05월_거주자_72세', '2022년05월_거주자_73세', '2022년05월_거주자_74세', '2022년05월_거주자_75세', '2022년05월_거주자_76세', '2022년05월_거주자_77세', '2022년05월_거주자_78세', '2022년05월_거주자_79세', '2022년05월_거주자_80세', '2022년05월_거주자_81세', '2022년05월_거주자_82세', '2022년05월_거주자_83세', '2022년05월_거주자_84세', '2022년05월_거주자_85세', '2022년05월_거주자_86세', '2022년05월_거주자_87세', '2022년05월_거주자_88세', '2022년05월_거주자_89세', '2022년05월_거주자_90세', '2022년05월_거주자_91세', '2022년05월_거주자_92세', '2022년05월_거주자_93세', '2022년05월_거주자_94세', '2022년05월_거주자_95세', '2022년05월_거주자_96세', '2022년05월_거주자_97세', '2022년05월_거주자_98세', '2022년05월_거주자_99세', '2022년05월_거주자_100세 이상']\n",
            "['경기도 성남시 분당구 서현1동(4113558000)', '31,207', '31,207', '120', '140', '146', '142', '179', '194', '251', '329', '326', '395', '406', '425', '450', '442', '469', '471', '366', '389', '400', '360', '348', '388', '351', '383', '414', '446', '441', '511', '480', '466', '507', '447', '414', '407', '357', '375', '364', '392', '400', '459', '536', '531', '600', '525', '561', '595', '591', '648', '698', '628', '662', '681', '584', '571', '496', '447', '419', '409', '401', '369', '363', '371', '361', '325', '308', '269', '270', '229', '214', '220', '152', '136', '171', '153', '164', '171', '141', '131', '113', '135', '149', '119', '113', '105', '95', '109', '78', '72', '53', '40', '46', '33', '21', '26', '22', '11', '7', '1', '1', '1', '6']\n"
          ]
        }
      ]
    },
    {
      "cell_type": "code",
      "source": [
        "# 원하는 열데이터의 인덱스 번호를 헤더 정보를 통하여 알아내기\n",
        "header.index('2022년05월_거주자_0세')"
      ],
      "metadata": {
        "id": "g03l0I4f3G9I",
        "colab": {
          "base_uri": "https://localhost:8080/"
        },
        "outputId": "91f8c81f-8212-4994-a385-9d0a7030f565"
      },
      "execution_count": null,
      "outputs": [
        {
          "output_type": "execute_result",
          "data": {
            "text/plain": [
              "3"
            ]
          },
          "metadata": {},
          "execution_count": 4
        }
      ]
    },
    {
      "cell_type": "markdown",
      "source": [
        "### 2) 서현1동의 연령대별 인구데이터 추출하기"
      ],
      "metadata": {
        "id": "g9HUNmKv4igi"
      }
    },
    {
      "cell_type": "code",
      "source": [
        "import csv\n",
        "f = open('/content/drive/MyDrive/data/202205_202205_연령별인구현황_월간.csv','r')\n",
        "lines = csv.reader(f)\n",
        "header = next(lines)\n",
        "print(header)\n",
        "ingu = []\n",
        "for line in lines:\n",
        "  if '서현1동' in line[0]:\n",
        "    #print(line[3:])\n",
        "    for data in line[3:]:\n",
        "      ingu.append(int(data))\n",
        "print(ingu)\n",
        "f.close()"
      ],
      "metadata": {
        "id": "_3ExYGxr4m56",
        "colab": {
          "base_uri": "https://localhost:8080/"
        },
        "outputId": "8885ffad-a178-4270-f738-7ce05b568188"
      },
      "execution_count": null,
      "outputs": [
        {
          "output_type": "stream",
          "name": "stdout",
          "text": [
            "['\\ufeff\"행정구역\"', '2022년05월_거주자_총인구수', '2022년05월_거주자_연령구간인구수', '2022년05월_거주자_0세', '2022년05월_거주자_1세', '2022년05월_거주자_2세', '2022년05월_거주자_3세', '2022년05월_거주자_4세', '2022년05월_거주자_5세', '2022년05월_거주자_6세', '2022년05월_거주자_7세', '2022년05월_거주자_8세', '2022년05월_거주자_9세', '2022년05월_거주자_10세', '2022년05월_거주자_11세', '2022년05월_거주자_12세', '2022년05월_거주자_13세', '2022년05월_거주자_14세', '2022년05월_거주자_15세', '2022년05월_거주자_16세', '2022년05월_거주자_17세', '2022년05월_거주자_18세', '2022년05월_거주자_19세', '2022년05월_거주자_20세', '2022년05월_거주자_21세', '2022년05월_거주자_22세', '2022년05월_거주자_23세', '2022년05월_거주자_24세', '2022년05월_거주자_25세', '2022년05월_거주자_26세', '2022년05월_거주자_27세', '2022년05월_거주자_28세', '2022년05월_거주자_29세', '2022년05월_거주자_30세', '2022년05월_거주자_31세', '2022년05월_거주자_32세', '2022년05월_거주자_33세', '2022년05월_거주자_34세', '2022년05월_거주자_35세', '2022년05월_거주자_36세', '2022년05월_거주자_37세', '2022년05월_거주자_38세', '2022년05월_거주자_39세', '2022년05월_거주자_40세', '2022년05월_거주자_41세', '2022년05월_거주자_42세', '2022년05월_거주자_43세', '2022년05월_거주자_44세', '2022년05월_거주자_45세', '2022년05월_거주자_46세', '2022년05월_거주자_47세', '2022년05월_거주자_48세', '2022년05월_거주자_49세', '2022년05월_거주자_50세', '2022년05월_거주자_51세', '2022년05월_거주자_52세', '2022년05월_거주자_53세', '2022년05월_거주자_54세', '2022년05월_거주자_55세', '2022년05월_거주자_56세', '2022년05월_거주자_57세', '2022년05월_거주자_58세', '2022년05월_거주자_59세', '2022년05월_거주자_60세', '2022년05월_거주자_61세', '2022년05월_거주자_62세', '2022년05월_거주자_63세', '2022년05월_거주자_64세', '2022년05월_거주자_65세', '2022년05월_거주자_66세', '2022년05월_거주자_67세', '2022년05월_거주자_68세', '2022년05월_거주자_69세', '2022년05월_거주자_70세', '2022년05월_거주자_71세', '2022년05월_거주자_72세', '2022년05월_거주자_73세', '2022년05월_거주자_74세', '2022년05월_거주자_75세', '2022년05월_거주자_76세', '2022년05월_거주자_77세', '2022년05월_거주자_78세', '2022년05월_거주자_79세', '2022년05월_거주자_80세', '2022년05월_거주자_81세', '2022년05월_거주자_82세', '2022년05월_거주자_83세', '2022년05월_거주자_84세', '2022년05월_거주자_85세', '2022년05월_거주자_86세', '2022년05월_거주자_87세', '2022년05월_거주자_88세', '2022년05월_거주자_89세', '2022년05월_거주자_90세', '2022년05월_거주자_91세', '2022년05월_거주자_92세', '2022년05월_거주자_93세', '2022년05월_거주자_94세', '2022년05월_거주자_95세', '2022년05월_거주자_96세', '2022년05월_거주자_97세', '2022년05월_거주자_98세', '2022년05월_거주자_99세', '2022년05월_거주자_100세 이상']\n",
            "[120, 140, 146, 142, 179, 194, 251, 329, 326, 395, 406, 425, 450, 442, 469, 471, 366, 389, 400, 360, 348, 388, 351, 383, 414, 446, 441, 511, 480, 466, 507, 447, 414, 407, 357, 375, 364, 392, 400, 459, 536, 531, 600, 525, 561, 595, 591, 648, 698, 628, 662, 681, 584, 571, 496, 447, 419, 409, 401, 369, 363, 371, 361, 325, 308, 269, 270, 229, 214, 220, 152, 136, 171, 153, 164, 171, 141, 131, 113, 135, 149, 119, 113, 105, 95, 109, 78, 72, 53, 40, 46, 33, 21, 26, 22, 11, 7, 1, 1, 1, 6]\n"
          ]
        }
      ]
    },
    {
      "cell_type": "markdown",
      "metadata": {
        "id": "tfUa9dHMQAio"
      },
      "source": [
        "### 3) 서현1동의 연령대별 인구수를 시각화하기\n",
        "\n"
      ]
    },
    {
      "cell_type": "markdown",
      "source": [
        "#### 꺽은선그래프"
      ],
      "metadata": {
        "id": "s9_IemV5lGW3"
      }
    },
    {
      "cell_type": "code",
      "source": [
        "import matplotlib.pyplot as plt\n",
        "x = range(101)\n",
        "y = ingu\n",
        "\n",
        "plt.figure(figsize=(20,5))\n",
        "plt.plot(x,y)\n",
        "plt.title('서현1동의 연령대별 인구구조')\n",
        "plt.xlabel('연령대')\n",
        "plt.ylabel('인구수')\n",
        "plt.show()"
      ],
      "metadata": {
        "id": "G49diPNjk-kl",
        "colab": {
          "base_uri": "https://localhost:8080/",
          "height": 349
        },
        "outputId": "75f744f8-184e-4419-ff7e-42044a52e351"
      },
      "execution_count": null,
      "outputs": [
        {
          "output_type": "display_data",
          "data": {
            "text/plain": [
              "<Figure size 1440x360 with 1 Axes>"
            ],
            "image/png": "[encoded data removed]"
          },
          "metadata": {
            "needs_background": "light"
          }
        }
      ]
    },
    {
      "cell_type": "markdown",
      "source": [
        "#### 막대그래프"
      ],
      "metadata": {
        "id": "TZ9AuFudxRQr"
      }
    },
    {
      "cell_type": "code",
      "source": [
        "import matplotlib.pyplot as plt\n",
        "x = range(101)\n",
        "y = ingu\n",
        "\n",
        "plt.figure(figsize=(20,5))\n",
        "plt.bar(x,y)\n",
        "plt.title('서현1동의 연령대별 인구구조')\n",
        "plt.xlabel('연령대')\n",
        "plt.ylabel('인구수')\n",
        "plt.show()"
      ],
      "metadata": {
        "id": "RZO91Y84mRIp",
        "colab": {
          "base_uri": "https://localhost:8080/",
          "height": 349
        },
        "outputId": "b6dfb7a7-f8b6-4cca-c59c-ec0353925621"
      },
      "execution_count": null,
      "outputs": [
        {
          "output_type": "display_data",
          "data": {
            "text/plain": [
              "<Figure size 1440x360 with 1 Axes>"
            ],
            "image/png": "[encoded data removed]"
          },
          "metadata": {
            "needs_background": "light"
          }
        }
      ]
    },
    {
      "cell_type": "markdown",
      "source": [
        "#### 가로 막대그래프 (y축데이터, x축데이터 순)"
      ],
      "metadata": {
        "id": "134UJtdUxXus"
      }
    },
    {
      "cell_type": "code",
      "source": [],
      "metadata": {
        "id": "2rcZosXAmdwN"
      },
      "execution_count": null,
      "outputs": []
    }
  ]
}